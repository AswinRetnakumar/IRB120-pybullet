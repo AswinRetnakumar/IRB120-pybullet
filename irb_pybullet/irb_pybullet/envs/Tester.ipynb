{
 "cells": [
  {
   "cell_type": "code",
   "execution_count": 1,
   "metadata": {},
   "outputs": [
    {
     "name": "stderr",
     "output_type": "stream",
     "text": [
      "Using TensorFlow backend.\n",
      "/home/aswin/.local/lib/python2.7/site-packages/requests/__init__.py:83: RequestsDependencyWarning: Old version of cryptography ([1, 2, 3]) may cause slowdown.\n",
      "  warnings.warn(warning, RequestsDependencyWarning)\n"
     ]
    }
   ],
   "source": [
    "from keras.models import Sequential,Model\n",
    "from keras.layers import Dense, Activation, Input\n",
    "from keras import backend as K\n",
    "import tensorflow as tf\n",
    "sess = tf.Session()\n",
    "\n",
    "K.set_session(sess)\n",
    "\n",
    "def Network(s, layer_size, hidden_activation='relu', output_activation = 'tanh'):\n",
    "    \n",
    "    x = Dense(12, activation = hidden_activation)(s)\n",
    "    for i in layer_size[1:-1]:\n",
    "        x = Dense(i, activation = hidden_activation)(x)\n",
    "    x = Dense(layer_size[-1], activation = output_activation)(x)\n",
    "    \n",
    "    return x"
   ]
  },
  {
   "cell_type": "code",
   "execution_count": 2,
   "metadata": {},
   "outputs": [],
   "source": [
    "s = tf.placeholder(dtype=tf.float32, shape=(None, 7))\n",
    "mod = Network(s,[300, 6])\n",
    "init_op = tf.global_variables_initializer()\n",
    "sess.run(init_op)\n"
   ]
  },
  {
   "cell_type": "code",
   "execution_count": 7,
   "metadata": {},
   "outputs": [
    {
     "name": "stdout",
     "output_type": "stream",
     "text": [
      "[[-0.40824285  0.48494154 -0.12620479 -0.6251654  -0.10800173  0.31916597]]\n"
     ]
    }
   ],
   "source": [
    "x = [[1,1,1,1,1,1,1]]\n",
    "import numpy as np\n",
    "x = np.array(x)\n",
    "with sess.as_default():\n",
    "    a = sess.run(mod,feed_dict={s:x})\n",
    "    print(a)\n",
    "    "
   ]
  },
  {
   "cell_type": "code",
   "execution_count": null,
   "metadata": {},
   "outputs": [],
   "source": []
  }
 ],
 "metadata": {
  "kernelspec": {
   "display_name": "Python 2",
   "language": "python",
   "name": "python2"
  },
  "language_info": {
   "codemirror_mode": {
    "name": "ipython",
    "version": 2
   },
   "file_extension": ".py",
   "mimetype": "text/x-python",
   "name": "python",
   "nbconvert_exporter": "python",
   "pygments_lexer": "ipython2",
   "version": "2.7.12"
  }
 },
 "nbformat": 4,
 "nbformat_minor": 2
}
